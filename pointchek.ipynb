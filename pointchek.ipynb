{
 "cells": [
  {
   "cell_type": "code",
   "execution_count": 2,
   "id": "b0270c13",
   "metadata": {},
   "outputs": [
    {
     "name": "stdout",
     "output_type": "stream",
     "text": [
      "okba\n",
      "saidi\n",
      "first name: okba\n",
      "last name: saidi\n",
      "saidi okba\n"
     ]
    }
   ],
   "source": [
    "first=input()\n",
    "last=input()\n",
    "print('first name:',first)\n",
    "print('last name:',last)\n",
    "print(last, first)"
   ]
  },
  {
   "cell_type": "code",
   "execution_count": 7,
   "id": "6afd621f",
   "metadata": {},
   "outputs": [
    {
     "name": "stdout",
     "output_type": "stream",
     "text": [
      "615\n"
     ]
    }
   ],
   "source": [
    "n=int('5')\n",
    "n1=int('55')\n",
    "n2=int('555')\n",
    "m=int(n+n1+n2)\n",
    "print(m)"
   ]
  },
  {
   "cell_type": "code",
   "execution_count": 13,
   "id": "08820a2d",
   "metadata": {},
   "outputs": [
    {
     "name": "stdout",
     "output_type": "stream",
     "text": [
      "13\n",
      "number is odd\n"
     ]
    }
   ],
   "source": [
    "x=int(input())\n",
    "y=x%2\n",
    "if y==0:\n",
    "    print('number is even')\n",
    "else:\n",
    "    print('number is odd')"
   ]
  },
  {
   "cell_type": "code",
   "execution_count": 56,
   "id": "0d06dbd7",
   "metadata": {},
   "outputs": [
    {
     "name": "stdout",
     "output_type": "stream",
     "text": [
      "x: 2002\n",
      "x: 2009\n",
      "x: 2016\n",
      "x: 2023\n",
      "x: 2037\n",
      "x: 2044\n",
      "x: 2051\n",
      "x: 2058\n",
      "x: 2072\n",
      "x: 2079\n",
      "x: 2086\n",
      "x: 2093\n",
      "x: 2107\n",
      "x: 2114\n",
      "x: 2121\n",
      "x: 2128\n",
      "x: 2142\n",
      "x: 2149\n",
      "x: 2156\n",
      "x: 2163\n",
      "x: 2177\n",
      "x: 2184\n",
      "x: 2191\n",
      "x: 2198\n",
      "x: 2212\n",
      "x: 2219\n",
      "x: 2226\n",
      "x: 2233\n",
      "x: 2247\n",
      "x: 2254\n",
      "x: 2261\n",
      "x: 2268\n",
      "x: 2282\n",
      "x: 2289\n",
      "x: 2296\n",
      "x: 2303\n",
      "x: 2317\n",
      "x: 2324\n",
      "x: 2331\n",
      "x: 2338\n",
      "x: 2352\n",
      "x: 2359\n",
      "x: 2366\n",
      "x: 2373\n",
      "x: 2387\n",
      "x: 2394\n",
      "x: 2401\n",
      "x: 2408\n",
      "x: 2422\n",
      "x: 2429\n",
      "x: 2436\n",
      "x: 2443\n",
      "x: 2457\n",
      "x: 2464\n",
      "x: 2471\n",
      "x: 2478\n",
      "x: 2492\n",
      "x: 2499\n",
      "x: 2506\n",
      "x: 2513\n",
      "x: 2527\n",
      "x: 2534\n",
      "x: 2541\n",
      "x: 2548\n",
      "x: 2562\n",
      "x: 2569\n",
      "x: 2576\n",
      "x: 2583\n",
      "x: 2597\n",
      "x: 2604\n",
      "x: 2611\n",
      "x: 2618\n",
      "x: 2632\n",
      "x: 2639\n",
      "x: 2646\n",
      "x: 2653\n",
      "x: 2667\n",
      "x: 2674\n",
      "x: 2681\n",
      "x: 2688\n",
      "x: 2702\n",
      "x: 2709\n",
      "x: 2716\n",
      "x: 2723\n",
      "x: 2737\n",
      "x: 2744\n",
      "x: 2751\n",
      "x: 2758\n",
      "x: 2772\n",
      "x: 2779\n",
      "x: 2786\n",
      "x: 2793\n",
      "x: 2807\n",
      "x: 2814\n",
      "x: 2821\n",
      "x: 2828\n",
      "x: 2842\n",
      "x: 2849\n",
      "x: 2856\n",
      "x: 2863\n",
      "x: 2877\n",
      "x: 2884\n",
      "x: 2891\n",
      "x: 2898\n",
      "x: 2912\n",
      "x: 2919\n",
      "x: 2926\n",
      "x: 2933\n",
      "x: 2947\n",
      "x: 2954\n",
      "x: 2961\n",
      "x: 2968\n",
      "x: 2982\n",
      "x: 2989\n",
      "x: 2996\n",
      "x: 3003\n",
      "x: 3017\n",
      "x: 3024\n",
      "x: 3031\n",
      "x: 3038\n",
      "x: 3052\n",
      "x: 3059\n",
      "x: 3066\n",
      "x: 3073\n",
      "x: 3087\n",
      "x: 3094\n",
      "x: 3101\n",
      "x: 3108\n",
      "x: 3122\n",
      "x: 3129\n",
      "x: 3136\n",
      "x: 3143\n",
      "x: 3157\n",
      "x: 3164\n",
      "x: 3171\n",
      "x: 3178\n",
      "x: 3192\n",
      "x: 3199\n"
     ]
    }
   ],
   "source": [
    "\n",
    "for x in range(2000,3200,1):\n",
    "   \n",
    "    if x%7==0 and x%5!=0:\n",
    "        print('x:',x)\n",
    "\n"
   ]
  },
  {
   "cell_type": "code",
   "execution_count": 54,
   "id": "21112784",
   "metadata": {},
   "outputs": [
    {
     "name": "stdout",
     "output_type": "stream",
     "text": [
      "5\n",
      "120\n"
     ]
    }
   ],
   "source": [
    "x=int(input())\n",
    "fact=1\n",
    "for i in range(1,x+1):\n",
    "    fact=fact*i\n",
    "print(fact)\n",
    "\n"
   ]
  },
  {
   "cell_type": "code",
   "execution_count": 81,
   "id": "9152cecc",
   "metadata": {},
   "outputs": [
    {
     "name": "stdout",
     "output_type": "stream",
     "text": [
      "11\n",
      "h\n",
      "l\n",
      "o\n",
      "w\n",
      "r\n",
      "d\n"
     ]
    }
   ],
   "source": [
    "string='hello world'\n",
    "y=len(string)\n",
    "print(y)\n",
    "for x in range(0,y):\n",
    "    if x%2==0:\n",
    "        print(string[x])"
   ]
  },
  {
   "cell_type": "code",
   "execution_count": 86,
   "id": "f90820b4",
   "metadata": {},
   "outputs": [
    {
     "name": "stdout",
     "output_type": "stream",
     "text": [
      "300\n",
      "new30= 210.0\n"
     ]
    }
   ],
   "source": [
    "price=int(input())\n",
    "if price>=500:\n",
    "    newprice50=price*0.5\n",
    "    print('new50=',newprice50)\n",
    "elif 500>price>200:\n",
    "    newprice30=price*0.7\n",
    "    print('new30=',newprice30)\n",
    "elif price<200:\n",
    "    newprice10=price*0.9\n",
    "    print('new10=',newprice10)\n",
    "    \n",
    "    \n",
    "    "
   ]
  },
  {
   "cell_type": "code",
   "execution_count": null,
   "id": "405e1ada",
   "metadata": {},
   "outputs": [],
   "source": []
  }
 ],
 "metadata": {
  "kernelspec": {
   "display_name": "Python 3 (ipykernel)",
   "language": "python",
   "name": "python3"
  },
  "language_info": {
   "codemirror_mode": {
    "name": "ipython",
    "version": 3
   },
   "file_extension": ".py",
   "mimetype": "text/x-python",
   "name": "python",
   "nbconvert_exporter": "python",
   "pygments_lexer": "ipython3",
   "version": "3.9.7"
  }
 },
 "nbformat": 4,
 "nbformat_minor": 5
}
